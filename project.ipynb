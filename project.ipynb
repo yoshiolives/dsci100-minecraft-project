{
 "cells": [
  {
   "cell_type": "code",
   "execution_count": null,
   "id": "63b737af-8218-4b08-94b5-52e788cd23d0",
   "metadata": {},
   "outputs": [],
   "source": []
  }
 ],
 "metadata": {
  "kernelspec": {
   "display_name": "R",
   "language": "R",
   "name": "ir"
  },
  "language_info": {
   "codemirror_mode": "r",
   "file_extension": ".r",
   "mimetype": "text/x-r-source",
   "name": "R",
   "pygments_lexer": "r",
   "version": "4.3.3"
  }
 },
 "nbformat": 4,
 "nbformat_minor": 5
}
